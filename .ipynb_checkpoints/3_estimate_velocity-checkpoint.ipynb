{
 "cells": [
  {
   "cell_type": "code",
   "execution_count": 1,
   "metadata": {},
   "outputs": [
    {
     "name": "stdout",
     "output_type": "stream",
     "text": [
      "Go to directory: /Users/yunjunz/development/python/a_python_guide_to_geophysics/FernandinaSenDT128\n"
     ]
    }
   ],
   "source": [
    "## Estimate Linear Velocity from 3D time-series displacement on Fernandina Volcano\n",
    "\n",
    "import os\n",
    "import h5py\n",
    "import numpy as np\n",
    "import matplotlib.pyplot as plt\n",
    "\n",
    "work_dir = os.path.expanduser('~/development/python/a_python_guide_to_geophysics/FernandinaSenDT128')\n",
    "os.chdir(work_dir)\n",
    "print('Go to directory:', work_dir)"
   ]
  },
  {
   "cell_type": "code",
   "execution_count": 5,
   "metadata": {
    "collapsed": true
   },
   "outputs": [],
   "source": [
    "# read timeseries HDF5 file\n",
    "ts_file = 'timeseries.h5'\n",
    "f = h5py.File(ts_file, 'r')\n",
    "ts_data = f['timeseries'][:]\n",
    "dates = f['date'][:]\n",
    "date_list = [i.decode('utf8') for i in dates.tolist()]\n",
    "f.close()"
   ]
  },
  {
   "cell_type": "code",
   "execution_count": 3,
   "metadata": {},
   "outputs": [
    {
     "data": {
      "text/plain": [
       "(98, 375, 458)"
      ]
     },
     "execution_count": 3,
     "metadata": {},
     "output_type": "execute_result"
    }
   ],
   "source": [
    "ts_data.shape"
   ]
  },
  {
   "cell_type": "code",
   "execution_count": 6,
   "metadata": {},
   "outputs": [
    {
     "data": {
      "text/plain": [
       "['20141213',\n",
       " '20141225',\n",
       " '20150307',\n",
       " '20150319',\n",
       " '20150331',\n",
       " '20150412',\n",
       " '20150424',\n",
       " '20150506',\n",
       " '20150518',\n",
       " '20150530',\n",
       " '20150611',\n",
       " '20150623',\n",
       " '20150717',\n",
       " '20150729',\n",
       " '20150822',\n",
       " '20150903',\n",
       " '20150915',\n",
       " '20150927',\n",
       " '20151009',\n",
       " '20151021',\n",
       " '20151102',\n",
       " '20151114',\n",
       " '20151126',\n",
       " '20151208',\n",
       " '20151220',\n",
       " '20160101',\n",
       " '20160113',\n",
       " '20160125',\n",
       " '20160206',\n",
       " '20160218',\n",
       " '20160301',\n",
       " '20160406',\n",
       " '20160418',\n",
       " '20160430',\n",
       " '20160512',\n",
       " '20160524',\n",
       " '20160605',\n",
       " '20160629',\n",
       " '20160711',\n",
       " '20160723',\n",
       " '20160804',\n",
       " '20160816',\n",
       " '20160828',\n",
       " '20160909',\n",
       " '20160921',\n",
       " '20161003',\n",
       " '20161015',\n",
       " '20161027',\n",
       " '20161108',\n",
       " '20161120',\n",
       " '20161202',\n",
       " '20161214',\n",
       " '20161226',\n",
       " '20170107',\n",
       " '20170119',\n",
       " '20170131',\n",
       " '20170212',\n",
       " '20170224',\n",
       " '20170308',\n",
       " '20170320',\n",
       " '20170401',\n",
       " '20170413',\n",
       " '20170425',\n",
       " '20170507',\n",
       " '20170519',\n",
       " '20170531',\n",
       " '20170612',\n",
       " '20170624',\n",
       " '20170706',\n",
       " '20170718',\n",
       " '20170730',\n",
       " '20170811',\n",
       " '20170823',\n",
       " '20170904',\n",
       " '20170916',\n",
       " '20170928',\n",
       " '20171010',\n",
       " '20171022',\n",
       " '20171103',\n",
       " '20171115',\n",
       " '20171127',\n",
       " '20171209',\n",
       " '20171221',\n",
       " '20180102',\n",
       " '20180114',\n",
       " '20180126',\n",
       " '20180207',\n",
       " '20180219',\n",
       " '20180303',\n",
       " '20180315',\n",
       " '20180327',\n",
       " '20180408',\n",
       " '20180420',\n",
       " '20180502',\n",
       " '20180514',\n",
       " '20180526',\n",
       " '20180607',\n",
       " '20180619']"
      ]
     },
     "execution_count": 6,
     "metadata": {},
     "output_type": "execute_result"
    }
   ],
   "source": [
    "date_list"
   ]
  },
  {
   "cell_type": "code",
   "execution_count": null,
   "metadata": {
    "collapsed": true
   },
   "outputs": [],
   "source": []
  }
 ],
 "metadata": {
  "kernelspec": {
   "display_name": "Python 3",
   "language": "python",
   "name": "python3"
  },
  "language_info": {
   "codemirror_mode": {
    "name": "ipython",
    "version": 3
   },
   "file_extension": ".py",
   "mimetype": "text/x-python",
   "name": "python",
   "nbconvert_exporter": "python",
   "pygments_lexer": "ipython3",
   "version": "3.6.5"
  }
 },
 "nbformat": 4,
 "nbformat_minor": 2
}
